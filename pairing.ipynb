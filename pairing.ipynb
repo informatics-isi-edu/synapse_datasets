{
 "cells": [
  {
   "cell_type": "markdown",
   "metadata": {},
   "source": [
    "# Plot paired and unpaired synapses"
   ]
  },
  {
   "cell_type": "code",
   "execution_count": 68,
   "metadata": {},
   "outputs": [
    {
     "data": {
      "text/html": [
       "<script>requirejs.config({paths: { 'plotly': ['https://cdn.plot.ly/plotly-latest.min']},});if(!window.Plotly) {{require(['plotly'],function(plotly) {window.Plotly=plotly;});}}</script>"
      ],
      "text/vnd.plotly.v1+html": [
       "<script>requirejs.config({paths: { 'plotly': ['https://cdn.plot.ly/plotly-latest.min']},});if(!window.Plotly) {{require(['plotly'],function(plotly) {window.Plotly=plotly;});}}</script>"
      ]
     },
     "metadata": {},
     "output_type": "display_data"
    }
   ],
   "source": [
    "# Load up all of the libraries we need\n",
    "\n",
    "import copy\n",
    "\n",
    "from deriva.core import HatracStore, ErmrestCatalog, get_credential\n",
    "from synspy.analyze.pair import SynapticPairStudy\n",
    "\n",
    "import synapse_utils\n",
    "\n",
    "import pandas as pd\n",
    "import numpy as np\n",
    "\n",
    "import plotly as py\n",
    "import plotly.graph_objs as go\n",
    "\n",
    "# configure plot.ly to run in a notebook.\n",
    "py.offline.init_notebook_mode(connected=True)"
   ]
  },
  {
   "cell_type": "markdown",
   "metadata": {},
   "source": [
    "We are going to pull the synapse data down directly from the syapse server.  In order to do this we have to make a connection to the server at synapse.isrd.isi.edu You need to make sure you have logged in using the DERIVA login agent first"
   ]
  },
  {
   "cell_type": "code",
   "execution_count": 69,
   "metadata": {},
   "outputs": [],
   "source": [
    "credential = get_credential(\"synapse.isrd.isi.edu\")\n",
    "ermrest_catalog = ErmrestCatalog('https', 'synapse.isrd.isi.edu', 1, credential)\n",
    "hatrac_store = HatracStore('https', 'synapse.isrd.isi.edu', credentials=credential)"
   ]
  },
  {
   "cell_type": "markdown",
   "metadata": {},
   "source": [
    "Lets start by getting a list of all of the studies currently in the server. We will end up with a list of studies, where each study has been classified by the study type based on the protocol that was followed. "
   ]
  },
  {
   "cell_type": "code",
   "execution_count": 113,
   "metadata": {},
   "outputs": [
    {
     "name": "stdout",
     "output_type": "stream",
     "text": [
      "Identified 65 studies\n"
     ]
    }
   ],
   "source": [
    "# Get the current list of studies from the server.\n",
    "study_entities = synapse_utils.get_synapse_studies()\n",
    "\n",
    "print('Identified %d studies' % len(study_entities))\n",
    "\n",
    "protocol_types = {\n",
    "    'PrcDsy20160101A': 'aversion',\n",
    "    'PrcDsy20170613A': 'conditioned',\n",
    "    'PrcDsy20170615A': 'unconditioned',\n",
    "    'PrcDsy20170613B': 'fullcycle-control',\n",
    "    'PrcDsy20171030A': 'groundtruth-control',\n",
    "    'PrcDsy20171030B': 'interval-groundtruth-control'\n",
    "}\n",
    "\n",
    "studies={}\n",
    "for i in study_entities:\n",
    "    studies[i['Study']] = {}\n",
    "    if protocol_types[i['Protocol']] == 'aversion':\n",
    "        studies[i['Study']]['Type'] = 'learner' if i['Learner'] == True else 'nonlearner'\n",
    "    else:\n",
    "        studies[i['Study']]['Type'] = protocol_types[i['Protocol']]"
   ]
  },
  {
   "cell_type": "markdown",
   "metadata": {},
   "source": [
    "Lets make some convienent subsets of studies"
   ]
  },
  {
   "cell_type": "code",
   "execution_count": 114,
   "metadata": {},
   "outputs": [
    {
     "name": "stdout",
     "output_type": "stream",
     "text": [
      "18 learners\n",
      "13 non-learners\n"
     ]
    }
   ],
   "source": [
    "learners=[ x for x,y in studies.items() if y['Type'] == 'learner' ]\n",
    "nonlearners = [ x for x,y in studies.items() if y['Type'] == 'nonlearner' ]\n",
    "all = [ x for x in studies]\n",
    "\n",
    "print('{0} learners'.format(len(learners)))\n",
    "print('{0} non-learners'.format(len(nonlearners)))"
   ]
  },
  {
   "cell_type": "markdown",
   "metadata": {},
   "source": [
    "Pick a study that we want to look at and set the parameters for the sweep."
   ]
  },
  {
   "cell_type": "code",
   "execution_count": 115,
   "metadata": {},
   "outputs": [],
   "source": [
    "syn_pair_radii = (2.0, 3.0, 4.0) # maximum search radii\n",
    "syn_dx_core_ratio = None  # turn off 4D nearest-neighbor\n",
    "syn_core_max_ratio = None # turn off intensity ratio threshold"
   ]
  },
  {
   "cell_type": "markdown",
   "metadata": {},
   "source": [
    "Now calculate the distances and save the results into dataframes. We are going to orignize things so that we have a copy of studies for each radii that we have, and put them in a top level dictionary."
   ]
  },
  {
   "cell_type": "code",
   "execution_count": 162,
   "metadata": {},
   "outputs": [
    {
     "name": "stdout",
     "output_type": "stream",
     "text": [
      "Processing study SynStd6025\n",
      "Processing study SynStd6473\n"
     ]
    }
   ],
   "source": [
    "pairs = {r: {} for r in syn_pair_radii}\n",
    "\n",
    "# Now go through the studies and get the ones you want\n",
    "study_list = learners[0:1] + nonlearners[0:1]\n",
    "\n",
    "for syn_study_id in study_list:\n",
    "    print('Processing study {0}'.format(syn_study_id))\n",
    "    study = SynapticPairStudy.from_study_id(ermrest_catalog, syn_study_id)\n",
    "    study.retrieve_data(hatrac_store)\n",
    "        \n",
    "    s1_to_s2, s2_to_s1 = study.syn_pairing_maps(syn_pair_radii, syn_dx_core_ratio, syn_core_max_ratio)\n",
    "\n",
    "    # get results for different radii, store them in a dictonary of pandas\n",
    "    for i,r in enumerate(syn_pair_radii):\n",
    "        pairs[r][syn_study_id] = copy.deepcopy(studies[syn_study_id])\n",
    "        r_study = pairs[r][syn_study_id]\n",
    "        \n",
    "        unpaired1 = study.get_unpaired(s1_to_s2[i,:], study.s1)\n",
    "        unpaired2 = study.get_unpaired(s2_to_s1[i,:], study.s2)\n",
    "        paired1, paired2 = study.get_pairs(s1_to_s2[i,:], study.s1, study.s2)\n",
    "    \n",
    "        r_study['unpaired_before'] =  \\\n",
    "            pd.DataFrame(unpaired1[:,0:5], columns=['x','y','z','core','hollow'])\n",
    "        r_study['unpaired_after'] = \\\n",
    "            pd.DataFrame(unpaired2[:,0:5], columns=['x','y','z','core','hollow'])\n",
    "        r_study['paired_before'] = \\\n",
    "            pd.DataFrame(paired1[:,0:5], columns=['x','y','z','core','hollow'])\n",
    "        r_study['paired_after'] = \\\n",
    "            pd.DataFrame(paired2[:,0:5], columns=['x','y','z','core','hollow'])"
   ]
  },
  {
   "cell_type": "markdown",
   "metadata": {},
   "source": [
    "Compute some basic Statistics"
   ]
  },
  {
   "cell_type": "code",
   "execution_count": 163,
   "metadata": {},
   "outputs": [
    {
     "data": {
      "application/vnd.plotly.v1+json": {
       "data": [
        {
         "cells": {
          "align": [
           "left",
           "left",
           "left",
           "left",
           "left"
          ],
          "fill": {
           "color": "#F5F8FF"
          },
          "values": [
           [
            "SynStd6025",
            "SynStd6473",
            "SynStd6025",
            "SynStd6473",
            "SynStd6025",
            "SynStd6473"
           ],
           [
            "learner",
            "nonlearner",
            "learner",
            "nonlearner",
            "learner",
            "nonlearner"
           ],
           [
            2,
            2,
            3,
            3,
            4,
            4
           ],
           [
            1048,
            311,
            1044,
            307,
            1035,
            303
           ],
           [
            758,
            316,
            754,
            312,
            745,
            308
           ],
           [
            7,
            1,
            11,
            5,
            20,
            9
           ],
           [
            7,
            1,
            11,
            5,
            20,
            9
           ],
           [
            7,
            11,
            20,
            7,
            11,
            20
           ]
          ]
         },
         "header": {
          "align": [
           "left",
           "left",
           "left",
           "left",
           "left"
          ],
          "fill": {
           "color": "#C2D4FF"
          },
          "values": [
           "ID",
           "Type",
           "Radius",
           "Unpaired Before",
           "Unpaired After",
           "Paired Before",
           "Paired After"
          ]
         },
         "type": "table"
        }
       ],
       "layout": {}
      },
      "text/html": [
       "<div id=\"c0a63418-8add-4b86-b1fb-0a2577911083\" style=\"height: 525px; width: 100%;\" class=\"plotly-graph-div\"></div><script type=\"text/javascript\">require([\"plotly\"], function(Plotly) { window.PLOTLYENV=window.PLOTLYENV || {};window.PLOTLYENV.BASE_URL=\"https://plot.ly\";Plotly.newPlot(\"c0a63418-8add-4b86-b1fb-0a2577911083\", [{\"type\": \"table\", \"header\": {\"values\": [\"ID\", \"Type\", \"Radius\", \"Unpaired Before\", \"Unpaired After\", \"Paired Before\", \"Paired After\"], \"fill\": {\"color\": \"#C2D4FF\"}, \"align\": [\"left\", \"left\", \"left\", \"left\", \"left\"]}, \"cells\": {\"values\": [[\"SynStd6025\", \"SynStd6473\", \"SynStd6025\", \"SynStd6473\", \"SynStd6025\", \"SynStd6473\"], [\"learner\", \"nonlearner\", \"learner\", \"nonlearner\", \"learner\", \"nonlearner\"], [2.0, 2.0, 3.0, 3.0, 4.0, 4.0], [1048, 311, 1044, 307, 1035, 303], [758, 316, 754, 312, 745, 308], [7, 1, 11, 5, 20, 9], [7, 1, 11, 5, 20, 9], [7, 11, 20, 7, 11, 20]], \"fill\": {\"color\": \"#F5F8FF\"}, \"align\": [\"left\", \"left\", \"left\", \"left\", \"left\"]}}], {}, {\"showLink\": true, \"linkText\": \"Export to plot.ly\"})});</script>"
      ],
      "text/vnd.plotly.v1+html": [
       "<div id=\"c0a63418-8add-4b86-b1fb-0a2577911083\" style=\"height: 525px; width: 100%;\" class=\"plotly-graph-div\"></div><script type=\"text/javascript\">require([\"plotly\"], function(Plotly) { window.PLOTLYENV=window.PLOTLYENV || {};window.PLOTLYENV.BASE_URL=\"https://plot.ly\";Plotly.newPlot(\"c0a63418-8add-4b86-b1fb-0a2577911083\", [{\"type\": \"table\", \"header\": {\"values\": [\"ID\", \"Type\", \"Radius\", \"Unpaired Before\", \"Unpaired After\", \"Paired Before\", \"Paired After\"], \"fill\": {\"color\": \"#C2D4FF\"}, \"align\": [\"left\", \"left\", \"left\", \"left\", \"left\"]}, \"cells\": {\"values\": [[\"SynStd6025\", \"SynStd6473\", \"SynStd6025\", \"SynStd6473\", \"SynStd6025\", \"SynStd6473\"], [\"learner\", \"nonlearner\", \"learner\", \"nonlearner\", \"learner\", \"nonlearner\"], [2.0, 2.0, 3.0, 3.0, 4.0, 4.0], [1048, 311, 1044, 307, 1035, 303], [758, 316, 754, 312, 745, 308], [7, 1, 11, 5, 20, 9], [7, 1, 11, 5, 20, 9], [7, 11, 20, 7, 11, 20]], \"fill\": {\"color\": \"#F5F8FF\"}, \"align\": [\"left\", \"left\", \"left\", \"left\", \"left\"]}}], {}, {\"showLink\": true, \"linkText\": \"Export to plot.ly\"})});</script>"
      ]
     },
     "metadata": {},
     "output_type": "display_data"
    }
   ],
   "source": [
    "cols = ['ID', 'Type', 'Radius', 'Unpaired Before', 'Unpaired After','Paired Before','Paired After']\n",
    "c1, c2, c3, c4, c5, c6, c7 = [],[],[],[],[],[],[]\n",
    "\n",
    "for r, s in pairs.items():\n",
    "    for id,d in s.items():\n",
    "        c1.append(id)\n",
    "        c2.append(d['Type'])\n",
    "        c3.append(r)\n",
    "        c4.append(len(d['unpaired_before'].index))\n",
    "        c5.append(len(d['unpaired_after'].index))\n",
    "        c6.append(len(d['paired_before'].index))\n",
    "        c7.append(len(d['paired_before'].index))\n",
    "    \n",
    "trace = go.Table(\n",
    "    header=dict(values=cols,\n",
    "                fill = dict(color='#C2D4FF'),\n",
    "                align = ['left'] * 5),\n",
    "    cells=dict(values=[c1, c2, c3, c4, c5, c6, c7, c8],\n",
    "               fill = dict(color='#F5F8FF'),\n",
    "               align = ['left'] * 5))\n",
    "\n",
    "data = [trace] \n",
    "py.offline.iplot(data, filename = 'pandas_table')"
   ]
  },
  {
   "cell_type": "code",
   "execution_count": 164,
   "metadata": {},
   "outputs": [
    {
     "data": {
      "application/vnd.plotly.v1+json": {
       "data": [
        {
         "marker": {
          "line": {
           "color": "rgb(0,255,0)",
           "width": 0.5
          },
          "opacity": 0.5,
          "size": 2
         },
         "mode": "markers",
         "name": "Learner Before centroids",
         "text": [
          "SynStd6025",
          "SynStd6061",
          "SynStd6483",
          "SynStd6485",
          "SynStd6487",
          "SynStd6489",
          "SynStd6491",
          "SynStd6493",
          "SynStd6495",
          "SynStd6791",
          "SynStd7941",
          "SynStd7943",
          "SynStd7945",
          "SynStd7947",
          "SynStd7949",
          "SynStd7951",
          "SynStd7955",
          "SynStdJKP"
         ],
         "type": "scatter3d",
         "x": [
          75.56135559082031
         ],
         "y": [
          1075.4405517578125
         ],
         "z": [
          703.4714965820312
         ]
        },
        {
         "marker": {
          "line": {
           "color": "rgb(255,0,0)",
           "width": 0.5
          },
          "opacity": 0.5,
          "size": 2
         },
         "mode": "markers",
         "name": "Learner After centroids",
         "text": [
          "SynStd6025",
          "SynStd6061",
          "SynStd6483",
          "SynStd6485",
          "SynStd6487",
          "SynStd6489",
          "SynStd6491",
          "SynStd6493",
          "SynStd6495",
          "SynStd6791",
          "SynStd7941",
          "SynStd7943",
          "SynStd7945",
          "SynStd7947",
          "SynStd7949",
          "SynStd7951",
          "SynStd7955",
          "SynStdJKP"
         ],
         "type": "scatter3d",
         "x": [
          79.86309051513672
         ],
         "y": [
          1115.18115234375
         ],
         "z": [
          771.3248291015625
         ]
        },
        {
         "marker": {
          "line": {
           "color": "rgb(128,128,128            )",
           "width": 0.5
          },
          "opacity": 0.5,
          "size": 2
         },
         "mode": "markers",
         "name": "Nonlearner After centroids",
         "text": [
          "SynStd6473",
          "SynStd6475",
          "SynStd6477",
          "SynStd6479",
          "SynStd6481",
          "SynStd7957",
          "SynStd7963",
          "SynStd7965",
          "SynStd8013",
          "SynStd8071",
          "SynStdJJ6",
          "SynStdJJP",
          "SynStdJJY"
         ],
         "type": "scatter3d",
         "x": [
          105.04220581054688
         ],
         "y": [
          842.7207641601562
         ],
         "z": [
          271.1298828125
         ]
        },
        {
         "marker": {
          "line": {
           "color": "rgb(0,0,255)",
           "width": 0.5
          },
          "opacity": 0.5,
          "size": 2
         },
         "mode": "markers",
         "name": "Nonlearner Before centroids",
         "text": [
          "SynStd6473",
          "SynStd6475",
          "SynStd6477",
          "SynStd6479",
          "SynStd6481",
          "SynStd7957",
          "SynStd7963",
          "SynStd7965",
          "SynStd8013",
          "SynStd8071",
          "SynStdJJ6",
          "SynStdJJP",
          "SynStdJJY"
         ],
         "type": "scatter3d",
         "x": [
          115.60726165771484
         ],
         "y": [
          811.4422607421875
         ],
         "z": [
          252.74917602539062
         ]
        }
       ],
       "layout": {}
      },
      "text/html": [
       "<div id=\"b5fbd44c-f31f-49f5-93e7-db970422b1ec\" style=\"height: 525px; width: 100%;\" class=\"plotly-graph-div\"></div><script type=\"text/javascript\">require([\"plotly\"], function(Plotly) { window.PLOTLYENV=window.PLOTLYENV || {};window.PLOTLYENV.BASE_URL=\"https://plot.ly\";Plotly.newPlot(\"b5fbd44c-f31f-49f5-93e7-db970422b1ec\", [{\"type\": \"scatter3d\", \"x\": [75.56135559082031], \"y\": [1075.4405517578125], \"z\": [703.4714965820312], \"mode\": \"markers\", \"name\": \"Learner Before centroids\", \"text\": [\"SynStd6025\", \"SynStd6061\", \"SynStd6483\", \"SynStd6485\", \"SynStd6487\", \"SynStd6489\", \"SynStd6491\", \"SynStd6493\", \"SynStd6495\", \"SynStd6791\", \"SynStd7941\", \"SynStd7943\", \"SynStd7945\", \"SynStd7947\", \"SynStd7949\", \"SynStd7951\", \"SynStd7955\", \"SynStdJKP\"], \"marker\": {\"size\": 2, \"line\": {\"color\": \"rgb(0,255,0)\", \"width\": 0.5}, \"opacity\": 0.5}}, {\"type\": \"scatter3d\", \"x\": [79.86309051513672], \"y\": [1115.18115234375], \"z\": [771.3248291015625], \"mode\": \"markers\", \"name\": \"Learner After centroids\", \"text\": [\"SynStd6025\", \"SynStd6061\", \"SynStd6483\", \"SynStd6485\", \"SynStd6487\", \"SynStd6489\", \"SynStd6491\", \"SynStd6493\", \"SynStd6495\", \"SynStd6791\", \"SynStd7941\", \"SynStd7943\", \"SynStd7945\", \"SynStd7947\", \"SynStd7949\", \"SynStd7951\", \"SynStd7955\", \"SynStdJKP\"], \"marker\": {\"size\": 2, \"line\": {\"color\": \"rgb(255,0,0)\", \"width\": 0.5}, \"opacity\": 0.5}}, {\"type\": \"scatter3d\", \"x\": [105.04220581054688], \"y\": [842.7207641601562], \"z\": [271.1298828125], \"mode\": \"markers\", \"name\": \"Nonlearner After centroids\", \"text\": [\"SynStd6473\", \"SynStd6475\", \"SynStd6477\", \"SynStd6479\", \"SynStd6481\", \"SynStd7957\", \"SynStd7963\", \"SynStd7965\", \"SynStd8013\", \"SynStd8071\", \"SynStdJJ6\", \"SynStdJJP\", \"SynStdJJY\"], \"marker\": {\"size\": 2, \"line\": {\"color\": \"rgb(128,128,128            )\", \"width\": 0.5}, \"opacity\": 0.5}}, {\"type\": \"scatter3d\", \"x\": [115.60726165771484], \"y\": [811.4422607421875], \"z\": [252.74917602539062], \"mode\": \"markers\", \"name\": \"Nonlearner Before centroids\", \"text\": [\"SynStd6473\", \"SynStd6475\", \"SynStd6477\", \"SynStd6479\", \"SynStd6481\", \"SynStd7957\", \"SynStd7963\", \"SynStd7965\", \"SynStd8013\", \"SynStd8071\", \"SynStdJJ6\", \"SynStdJJP\", \"SynStdJJY\"], \"marker\": {\"size\": 2, \"line\": {\"color\": \"rgb(0,0,255)\", \"width\": 0.5}, \"opacity\": 0.5}}], {}, {\"showLink\": true, \"linkText\": \"Export to plot.ly\"})});</script>"
      ],
      "text/vnd.plotly.v1+html": [
       "<div id=\"b5fbd44c-f31f-49f5-93e7-db970422b1ec\" style=\"height: 525px; width: 100%;\" class=\"plotly-graph-div\"></div><script type=\"text/javascript\">require([\"plotly\"], function(Plotly) { window.PLOTLYENV=window.PLOTLYENV || {};window.PLOTLYENV.BASE_URL=\"https://plot.ly\";Plotly.newPlot(\"b5fbd44c-f31f-49f5-93e7-db970422b1ec\", [{\"type\": \"scatter3d\", \"x\": [75.56135559082031], \"y\": [1075.4405517578125], \"z\": [703.4714965820312], \"mode\": \"markers\", \"name\": \"Learner Before centroids\", \"text\": [\"SynStd6025\", \"SynStd6061\", \"SynStd6483\", \"SynStd6485\", \"SynStd6487\", \"SynStd6489\", \"SynStd6491\", \"SynStd6493\", \"SynStd6495\", \"SynStd6791\", \"SynStd7941\", \"SynStd7943\", \"SynStd7945\", \"SynStd7947\", \"SynStd7949\", \"SynStd7951\", \"SynStd7955\", \"SynStdJKP\"], \"marker\": {\"size\": 2, \"line\": {\"color\": \"rgb(0,255,0)\", \"width\": 0.5}, \"opacity\": 0.5}}, {\"type\": \"scatter3d\", \"x\": [79.86309051513672], \"y\": [1115.18115234375], \"z\": [771.3248291015625], \"mode\": \"markers\", \"name\": \"Learner After centroids\", \"text\": [\"SynStd6025\", \"SynStd6061\", \"SynStd6483\", \"SynStd6485\", \"SynStd6487\", \"SynStd6489\", \"SynStd6491\", \"SynStd6493\", \"SynStd6495\", \"SynStd6791\", \"SynStd7941\", \"SynStd7943\", \"SynStd7945\", \"SynStd7947\", \"SynStd7949\", \"SynStd7951\", \"SynStd7955\", \"SynStdJKP\"], \"marker\": {\"size\": 2, \"line\": {\"color\": \"rgb(255,0,0)\", \"width\": 0.5}, \"opacity\": 0.5}}, {\"type\": \"scatter3d\", \"x\": [105.04220581054688], \"y\": [842.7207641601562], \"z\": [271.1298828125], \"mode\": \"markers\", \"name\": \"Nonlearner After centroids\", \"text\": [\"SynStd6473\", \"SynStd6475\", \"SynStd6477\", \"SynStd6479\", \"SynStd6481\", \"SynStd7957\", \"SynStd7963\", \"SynStd7965\", \"SynStd8013\", \"SynStd8071\", \"SynStdJJ6\", \"SynStdJJP\", \"SynStdJJY\"], \"marker\": {\"size\": 2, \"line\": {\"color\": \"rgb(128,128,128            )\", \"width\": 0.5}, \"opacity\": 0.5}}, {\"type\": \"scatter3d\", \"x\": [115.60726165771484], \"y\": [811.4422607421875], \"z\": [252.74917602539062], \"mode\": \"markers\", \"name\": \"Nonlearner Before centroids\", \"text\": [\"SynStd6473\", \"SynStd6475\", \"SynStd6477\", \"SynStd6479\", \"SynStd6481\", \"SynStd7957\", \"SynStd7963\", \"SynStd7965\", \"SynStd8013\", \"SynStd8071\", \"SynStdJJ6\", \"SynStdJJP\", \"SynStdJJY\"], \"marker\": {\"size\": 2, \"line\": {\"color\": \"rgb(0,0,255)\", \"width\": 0.5}, \"opacity\": 0.5}}], {}, {\"showLink\": true, \"linkText\": \"Export to plot.ly\"})});</script>"
      ]
     },
     "metadata": {},
     "output_type": "display_data"
    }
   ],
   "source": [
    "# Select the radius that we want to calculate for\n",
    "sl = pairs[4.0]\n",
    "\n",
    "# calculate centroids\n",
    "lbx = [v['unpaired_before']['x'].mean() for k,v in sl.items() if v['Type'] == 'learner']\n",
    "lby = [v['unpaired_before']['y'].mean() for k,v in sl.items() if v['Type'] == 'learner']\n",
    "lbz = [v['unpaired_before']['z'].mean() for k,v in sl.items() if v['Type'] == 'learner']\n",
    "\n",
    "lax = [v['unpaired_after']['x'].mean() for k,v in sl.items() if v['Type'] == 'learner']\n",
    "lay = [v['unpaired_after']['y'].mean() for k,v in sl.items() if v['Type'] == 'learner']\n",
    "laz = [v['unpaired_after']['z'].mean() for k,v in sl.items() if v['Type'] == 'learner']\n",
    "\n",
    "nbx = [v['unpaired_before']['x'].mean() for k,v in sl.items() if v['Type'] == 'nonlearner']\n",
    "nby = [v['unpaired_before']['y'].mean() for k,v in sl.items() if v['Type'] == 'nonlearner']\n",
    "nbz = [v['unpaired_before']['z'].mean() for k,v in sl.items() if v['Type'] == 'nonlearner']\n",
    "\n",
    "nax = [v['unpaired_after']['x'].mean() for k,v in sl.items() if v['Type'] == 'nonlearner']\n",
    "nay = [v['unpaired_after']['y'].mean() for k,v in sl.items() if v['Type'] == 'nonlearner']\n",
    "naz = [v['unpaired_after']['z'].mean() for k,v in sl.items() if v['Type'] == 'nonlearner']\n",
    "\n",
    "#calculate centroids\n",
    "\n",
    "\n",
    "learner_bcentroids = go.Scatter3d(\n",
    "        x=lbx, y=lby, z=lbz,\n",
    "        mode='markers',\n",
    "        name='Learner Before centroids',\n",
    "        text=learners,\n",
    "        marker=dict(\n",
    "            size=2,\n",
    "            line=dict(\n",
    "            color='rgb(0,255,0)',\n",
    "            width=0.5\n",
    "            ),\n",
    "        opacity=0.5\n",
    "        )\n",
    "    )\n",
    "\n",
    "learner_acentroids = go.Scatter3d(\n",
    "        x=lax, y=lay, z=laz,\n",
    "        mode='markers',\n",
    "        name='Learner After centroids',\n",
    "        text=learners,\n",
    "        marker=dict(\n",
    "            size=2,\n",
    "            line=dict(\n",
    "            color='rgb(255,0,0)',\n",
    "            width=0.5\n",
    "            ),\n",
    "        opacity=0.5\n",
    "        )\n",
    "    )\n",
    "\n",
    "nonlearner_bcentroids = go.Scatter3d(\n",
    "        x=nbx, y=nby, z=nbz,\n",
    "        mode='markers',\n",
    "        name='Nonlearner Before centroids',\n",
    "        text=nonlearners,\n",
    "        marker=dict(\n",
    "            size=2,\n",
    "            line=dict(\n",
    "            color='rgb(0,0,255)',\n",
    "            width=0.5\n",
    "            ),\n",
    "        opacity=0.5\n",
    "        )\n",
    "    )\n",
    "\n",
    "nonlearner_acentroids = go.Scatter3d(\n",
    "        x=nax, y=nay, z=naz,\n",
    "        mode='markers',\n",
    "        name='Nonlearner After centroids',\n",
    "        text=nonlearners,\n",
    "        marker=dict(\n",
    "            size=2,\n",
    "            line=dict(\n",
    "            color='rgb(128,128,128            )',\n",
    "            width=0.5\n",
    "            ),\n",
    "        opacity=0.5\n",
    "        )\n",
    "    )\n",
    "\n",
    "data = [learner_bcentroids, learner_acentroids, nonlearner_acentroids, nonlearner_bcentroids]\n",
    "py.offline.iplot(data, filename='pair-distance')\n"
   ]
  },
  {
   "cell_type": "markdown",
   "metadata": {},
   "source": [
    "Plot histograms of different radii"
   ]
  },
  {
   "cell_type": "code",
   "execution_count": 165,
   "metadata": {},
   "outputs": [
    {
     "ename": "KeyError",
     "evalue": "'paired_before'",
     "output_type": "error",
     "traceback": [
      "\u001b[0;31m---------------------------------------------------------------------------\u001b[0m",
      "\u001b[0;31mKeyError\u001b[0m                                  Traceback (most recent call last)",
      "\u001b[0;32m<ipython-input-165-bebdf5771d22>\u001b[0m in \u001b[0;36m<module>\u001b[0;34m()\u001b[0m\n\u001b[1;32m      2\u001b[0m \u001b[0msl\u001b[0m \u001b[0;34m=\u001b[0m \u001b[0mpairs\u001b[0m\u001b[0;34m[\u001b[0m\u001b[0mmax\u001b[0m\u001b[0;34m(\u001b[0m\u001b[0mpairs\u001b[0m\u001b[0;34m)\u001b[0m\u001b[0;34m]\u001b[0m\u001b[0;34m\u001b[0m\u001b[0m\n\u001b[1;32m      3\u001b[0m \u001b[0;34m\u001b[0m\u001b[0m\n\u001b[0;32m----> 4\u001b[0;31m \u001b[0mbefore\u001b[0m \u001b[0;34m=\u001b[0m \u001b[0msl\u001b[0m\u001b[0;34m[\u001b[0m\u001b[0;34m'paired_before'\u001b[0m\u001b[0;34m]\u001b[0m\u001b[0;34m\u001b[0m\u001b[0m\n\u001b[0m\u001b[1;32m      5\u001b[0m \u001b[0mafter\u001b[0m \u001b[0;34m=\u001b[0m \u001b[0msl\u001b[0m\u001b[0;34m[\u001b[0m\u001b[0;34m'paired_after'\u001b[0m\u001b[0;34m]\u001b[0m\u001b[0;34m\u001b[0m\u001b[0m\n\u001b[1;32m      6\u001b[0m pair_distance = np.sqrt((before['x'] - after['x'])**2 +\n",
      "\u001b[0;31mKeyError\u001b[0m: 'paired_before'"
     ]
    }
   ],
   "source": [
    "\n",
    "sl = pairs[max(pairs)]\n",
    "\n",
    "before = sl['paired_before']\n",
    "after = sl['paired_after']\n",
    "pair_distance = np.sqrt((before['x'] - after['x'])**2 +\n",
    "                        (before['y'] - after['y'])**2 +\n",
    "                        (before['z'] - after['z'])**2)\n",
    "                \n",
    "hist_data = go.Histogram(x=pair_distance, name='Radias {0}'.format(r))\n",
    "\n",
    "hist_layout = go.Layout(\n",
    "    title='Pair Histogram Radius {0}: {1} ({2})'.format(r, study.id, study_types[study.id]),\n",
    "    xaxis=dict(\n",
    "         title='Distance'\n",
    "    ),\n",
    "    yaxis=dict(\n",
    "         title='Count'\n",
    "        ),\n",
    "    bargap=0.2,\n",
    "     bargroupgap=0.1\n",
    "    )\n",
    "\n",
    "hist_fig = go.Figure(data= [hist_data], layout=hist_layout)\n",
    "\n",
    "py.offline.iplot(hist_fig, filename='pair-distance')"
   ]
  },
  {
   "cell_type": "code",
   "execution_count": null,
   "metadata": {},
   "outputs": [],
   "source": [
    "data = []\n",
    "\n",
    "# A helper function to set visiblity     \n",
    "\n",
    "for r in  syn_pair_radii:\n",
    "    \n",
    "    before = paired_before[r]\n",
    "    after = paired_after[r]\n",
    "    up_before = unpaired_before[r]\n",
    "    up_after = unpaired_after[r]\n",
    "  \n",
    "    before_synapses = go.Scatter3d(\n",
    "        visible = False,\n",
    "        x=before['x'], y=before['y'], z=before['z'],\n",
    "        legendgroup='paired',\n",
    "        name='Before Paired Radius: {0}'.format(r),\n",
    "        mode='markers',\n",
    "        marker=dict(\n",
    "            size=2,\n",
    "            line=dict(\n",
    "            color='rgb(0,255,0)',\n",
    "            width=0.5\n",
    "            ),\n",
    "        opacity=0.5\n",
    "        )\n",
    "    )\n",
    "\n",
    "    after_synapses = go.Scatter3d(\n",
    "        visible = False,\n",
    "        x=after['x'], y=after['y'], z=after['z'],\n",
    "        legendgroup='paired',\n",
    "        name='After Paired Radius: {0}'.format(r),\n",
    "        mode='markers',\n",
    "        marker=dict(\n",
    "            size=2,\n",
    "            line=dict(\n",
    "                color='rgb(255,0,0)',\n",
    "                width=.5\n",
    "            ),\n",
    "        opacity=0.5\n",
    "        )\n",
    "    )\n",
    "    \n",
    "    up_before_synapses = go.Scatter3d(\n",
    "        visible = False,      \n",
    "        x=up_before['x'], y=up_before['y'], z=up_before['z'],\n",
    "        legendgroup='unpaired',\n",
    "        name='Before Unpaired Radius: {0}'.format(r),\n",
    "        mode='markers',\n",
    "        marker=dict(\n",
    "            size=2,\n",
    "            line=dict(\n",
    "            color='rgb(0,0,255)',\n",
    "            width=0.5\n",
    "            ),\n",
    "        opacity=0.5\n",
    "        )\n",
    "    )\n",
    "\n",
    "    up_after_synapses = go.Scatter3d(\n",
    "        visible = False,\n",
    "        x=up_after['x'], y=up_after['y'], z=up_after['z'],\n",
    "        legendgroup='unpaired',\n",
    "        name='After Unpaired Radius: {0}'.format(r),\n",
    "        mode='markers',\n",
    "        marker=dict(\n",
    "            size=2,\n",
    "            line=dict(\n",
    "                color='rgb(128,128,128)',\n",
    "                width=.5\n",
    "            ),\n",
    "        opacity=0.5\n",
    "        )\n",
    "    )\n",
    "\n",
    "    data.extend([ before_synapses, after_synapses, up_before_synapses, up_after_synapses])\n",
    "\n",
    "for i in range(4):\n",
    "    data[i]['visible'] = True\n",
    "\n",
    "steps = []\n",
    "for i in range(len(data)//4):\n",
    "    step = dict(\n",
    "        method = 'restyle',\n",
    "        args = ['visible', [False] * len(data)],\n",
    "        label='Radius {0}'.format(syn_pair_radii[i])\n",
    "    )\n",
    "    step['args'][1][i*4:i+4] = [True] * 4 # Toggle i'th trace to \"visible\"\n",
    "    steps.append(step)\n",
    "\n",
    "sliders = [dict(\n",
    "    active = 0,\n",
    "    currentvalue = {\"visible\": False},\n",
    "    pad = {\"t\": 50},\n",
    "    steps = steps\n",
    ")]\n",
    "\n",
    "layout = go.Layout(\n",
    "        height=1000, width=1000,\n",
    "        title='Paired and Unpaired Synapapses {0} ({1})'.format(study.id, study_types[study.id]),\n",
    "        sliders=sliders\n",
    "    )\n",
    "\n",
    "fig = dict(data=data, layout=layout)\n",
    "py.offline.iplot(fig, filename='Synapse Pair Distance')"
   ]
  },
  {
   "cell_type": "code",
   "execution_count": null,
   "metadata": {
    "scrolled": false
   },
   "outputs": [],
   "source": [
    "for r in  syn_pair_radii:\n",
    "    \n",
    "    before = paired_before[r]\n",
    "    after = paired_after[r]\n",
    "    up_before = unpaired_before[r]\n",
    "    up_after = unpaired_after[r]\n",
    "  \n",
    "    before_synapses = go.Scatter3d(\n",
    "        x=before['x'], y=before['y'], z=before['z'],\n",
    "        legendgroup='paired',\n",
    "        name='Before Paired',\n",
    "        mode='markers',\n",
    "        marker=dict(\n",
    "            size=2,\n",
    "            line=dict(\n",
    "            color='rgb(0,255,0)',\n",
    "            width=0.5\n",
    "            ),\n",
    "        opacity=0.5\n",
    "        )\n",
    "    )\n",
    "\n",
    "    after_synapses = go.Scatter3d(\n",
    "        x=after['x'], y=after['y'], z=after['z'],\n",
    "        legendgroup='paired',\n",
    "        name='After Paired',\n",
    "        mode='markers',\n",
    "        marker=dict(\n",
    "            size=2,\n",
    "            line=dict(\n",
    "                color='rgb(255,0,0)',\n",
    "                width=.5\n",
    "            ),\n",
    "        opacity=0.5\n",
    "        )\n",
    "    )\n",
    "    \n",
    "    up_before_synapses = go.Scatter3d(\n",
    "        x=up_before['x'], y=up_before['y'], z=up_before['z'],\n",
    "        legendgroup='unpaired',\n",
    "        name='Before Unpaired',\n",
    "        mode='markers',\n",
    "        marker=dict(\n",
    "            size=2,\n",
    "            line=dict(\n",
    "            color='rgb(0,0,255)',\n",
    "            width=0.5\n",
    "            ),\n",
    "        opacity=0.5\n",
    "        )\n",
    "    )\n",
    "\n",
    "    up_after_synapses = go.Scatter3d(\n",
    "        x=up_after['x'], y=up_after['y'], z=up_after['z'],\n",
    "        legendgroup='unpaired',\n",
    "        name='After Unpaired',\n",
    "        mode='markers',\n",
    "        marker=dict(\n",
    "            size=2,\n",
    "            line=dict(\n",
    "                color='rgb(128,128,128)',\n",
    "                width=.5\n",
    "            ),\n",
    "        opacity=0.5\n",
    "        )\n",
    "    )\n",
    "\n",
    "    data = [ before_synapses, after_synapses, up_before_synapses, up_after_synapses]\n",
    "\n",
    "    layout = go.Layout(\n",
    "        height=800,\n",
    "        title='Paired Synapapses at Radius {0}'.format(r),\n",
    "    )\n",
    "\n",
    "    fig = go.Figure(data=data, layout=layout)\n",
    "    py.offline.iplot(fig)"
   ]
  }
 ],
 "metadata": {
  "kernelspec": {
   "display_name": "Python 3",
   "language": "python",
   "name": "python3"
  },
  "language_info": {
   "codemirror_mode": {
    "name": "ipython",
    "version": 3
   },
   "file_extension": ".py",
   "mimetype": "text/x-python",
   "name": "python",
   "nbconvert_exporter": "python",
   "pygments_lexer": "ipython3",
   "version": "3.6.3"
  }
 },
 "nbformat": 4,
 "nbformat_minor": 2
}
