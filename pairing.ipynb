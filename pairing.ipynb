{
 "cells": [
  {
   "cell_type": "markdown",
   "metadata": {},
   "source": [
    "# Plot paired and unpaired synapses"
   ]
  },
  {
   "cell_type": "code",
   "execution_count": null,
   "metadata": {},
   "outputs": [],
   "source": [
    "# Load up all of the libraries we need\n",
    "\n",
    "from deriva.core import HatracStore, ErmrestCatalog, get_credential\n",
    "from synspy.analyze.pair import SynapticPairStudy\n",
    "\n",
    "import synapse_utils\n",
    "\n",
    "import pandas as pd\n",
    "import numpy as np\n",
    "\n",
    "import plotly as py\n",
    "import plotly.graph_objs as go\n",
    "\n",
    "# configure plot.ly to run in a notebook.\n",
    "py.offline.init_notebook_mode(connected=True)"
   ]
  },
  {
   "cell_type": "markdown",
   "metadata": {},
   "source": [
    "We are going to pull the synapse data down directly from the syapse server.  In order to do this we have to make a connection to the server at synapse.isrd.isi.edu You need to make sure you have logged in using the DERIVA login agent first"
   ]
  },
  {
   "cell_type": "code",
   "execution_count": null,
   "metadata": {},
   "outputs": [],
   "source": [
    "credential = get_credential(\"synapse.isrd.isi.edu\")\n",
    "ermrest_catalog = ErmrestCatalog('https', 'synapse.isrd.isi.edu', 1, credential)\n",
    "hatrac_store = HatracStore('https', 'synapse.isrd.isi.edu', credentials=credential)"
   ]
  },
  {
   "cell_type": "markdown",
   "metadata": {},
   "source": [
    "Lets start by getting a list of all of the studies currently in the server. We will end up with a list of studies, where each study has been classified by the study type based on the protocol that was followed. "
   ]
  },
  {
   "cell_type": "code",
   "execution_count": null,
   "metadata": {},
   "outputs": [],
   "source": [
    "# Get the current list of studies from the server.\n",
    "study_entities = synapse_utils.get_synapse_studies()\n",
    "study_uri = study_entities.uri\n",
    "\n",
    "print('Identified %d studies' % len(study_entities))"
   ]
  },
  {
   "cell_type": "code",
   "execution_count": null,
   "metadata": {},
   "outputs": [],
   "source": [
    "study_list = []\n",
    "\n",
    "protocol_types = {\n",
    "    'PrcDsy20160101A': 'aversion',\n",
    "    'PrcDsy20170613A': 'conditioned',\n",
    "    'PrcDsy20170615A': 'unconditioned',\n",
    "    'PrcDsy20170613B': 'fullcycle-control',\n",
    "    'PrcDsy20171030A': 'groundtruth-control',\n",
    "    'PrcDsy20171030B': 'interval-groundtruth-control'\n",
    "}\n",
    "\n",
    "for i in study_entities:\n",
    "    if protocol_types[i['Protocol']] == 'aversion':\n",
    "        i['Type'] = 'learner' if i['Learner'] == True else 'nonlearner'\n",
    "    else:\n",
    "        i['Type'] = protocol_types[i['Protocol']]\n",
    "    study_list.append(i)"
   ]
  },
  {
   "cell_type": "markdown",
   "metadata": {},
   "source": [
    "Lets make some convienent subsets of studies"
   ]
  },
  {
   "cell_type": "code",
   "execution_count": null,
   "metadata": {},
   "outputs": [],
   "source": [
    "learners = [i for i in study_list if i['Type'] == 'learner']\n",
    "nonlearners = [i for i in study_list if i['Type'] == 'nonlearner']\n",
    "\n",
    "print([i['Study'] for i in learners if True])"
   ]
  },
  {
   "cell_type": "markdown",
   "metadata": {},
   "source": [
    "Pick a study that we want to look at and set the parameters for the sweep."
   ]
  },
  {
   "cell_type": "code",
   "execution_count": null,
   "metadata": {},
   "outputs": [],
   "source": [
    "syn_study_id = study_list[49]['Study'] # SynStd8175, the study we'll analyze\n",
    "syn_pair_radii = (2.0, 3.0, 4.0) # maximum search radii\n",
    "syn_dx_core_ratio = None  # turn off 4D nearest-neighbor\n",
    "syn_core_max_ratio = None # turn off intensity ratio threshold"
   ]
  },
  {
   "cell_type": "markdown",
   "metadata": {},
   "source": [
    "Now calculate the distances and save the results into dataframes...."
   ]
  },
  {
   "cell_type": "code",
   "execution_count": null,
   "metadata": {},
   "outputs": [],
   "source": [
    "study = SynapticPairStudy.from_study_id(ermrest_catalog, syn_study_id)\n",
    "study.retrieve_data(hatrac_store)\n",
    "\n",
    "s1_to_s2, s2_to_s1 = study.syn_pairing_maps(syn_pair_radii, syn_dx_core_ratio, syn_core_max_ratio)\n",
    "\n",
    "# get results for different radii, store them in a dictonary of pandas\n",
    "\n",
    "unpaired_before, unpaired_after, paired_before, paired_after = {}, {}, {}, {}\n",
    "\n",
    "# Create a list of pandas, one for each radii\n",
    "for i,r in enumerate(syn_pair_radii):\n",
    "    unpaired1 = study.get_unpaired(s1_to_s2[i,:], study.s1)\n",
    "    unpaired2 = study.get_unpaired(s2_to_s1[i,:], study.s2)\n",
    "    paired1, paired2 = study.get_pairs(s1_to_s2[i,:], study.s1, study.s2)\n",
    "    \n",
    "    unpaired_before[r] = pd.DataFrame(unpaired1[:,0:5], columns=['x','y','z','core','hollow'])\n",
    "    unpaired_after[r] = pd.DataFrame(unpaired2[:,0:5], columns=['x','y','z','core','hollow'])\n",
    "    paired_before[r]  = pd.DataFrame(paired1[:,0:5], columns=['x','y','z','core','hollow'])\n",
    "    paired_after[r] = pd.DataFrame(paired2[:,0:5], columns=['x','y','z','core','hollow'])"
   ]
  },
  {
   "cell_type": "markdown",
   "metadata": {},
   "source": [
    "Compute some basic Statistics"
   ]
  },
  {
   "cell_type": "code",
   "execution_count": null,
   "metadata": {},
   "outputs": [],
   "source": [
    "for r in  syn_pair_radii:\n",
    "    print('Radius {0}'.format(r))\n",
    "    print('    unpaired before {0}'.format(len(unpaired_before[r].index)))\n",
    "    print('    unpaired after {0}'.format(len(unpaired_after[r].index)))\n",
    "    print('    paired {0}'.format(len(paired_before[r].index)))"
   ]
  },
  {
   "cell_type": "markdown",
   "metadata": {},
   "source": [
    "Plot histograms of different radii"
   ]
  },
  {
   "cell_type": "code",
   "execution_count": null,
   "metadata": {},
   "outputs": [],
   "source": [
    "data = []\n",
    "\n",
    "r = max(syn_pair_radii)\n",
    "before = paired_before[r]\n",
    "after = paired_after[r]\n",
    "pair_distance = np.sqrt((before['x'] - after['x'])**2 +\n",
    "                        (before['y'] - after['y'])**2 +\n",
    "                        (before['z'] - after['z'])**2)\n",
    "                \n",
    "hist_data = go.Histogram(x=pair_distance, name='Radias {0}'.format(r))\n",
    "\n",
    "hist_layout = go.Layout(\n",
    "    title='Pair Histogram Radius {0}'.format(r),\n",
    "    xaxis=dict(\n",
    "         title='Distance'\n",
    "    ),\n",
    "    yaxis=dict(\n",
    "         title='Count'\n",
    "        ),\n",
    "    bargap=0.2,\n",
    "     bargroupgap=0.1\n",
    "    )\n",
    "\n",
    "hist_fig = go.Figure(data= [hist_data], layout=hist_layout)\n",
    "\n",
    "py.offline.iplot(hist_fig, filename='pair-distance')"
   ]
  },
  {
   "cell_type": "code",
   "execution_count": null,
   "metadata": {},
   "outputs": [],
   "source": [
    "x = [1,2,3,4,5, 6, 7, 8,9,10,11,12]\n",
    "i = 4\n",
    "x[i*4:i*4+4] = [True] * 4\n",
    "x"
   ]
  },
  {
   "cell_type": "code",
   "execution_count": null,
   "metadata": {},
   "outputs": [],
   "source": [
    "data = []\n",
    "\n",
    "for r in  syn_pair_radii:\n",
    "    \n",
    "    before = paired_before[r]\n",
    "    after = paired_after[r]\n",
    "    up_before = unpaired_before[r]\n",
    "    up_after = unpaired_after[r]\n",
    "  \n",
    "    before_synapses = go.Scatter3d(\n",
    "        visible = False,\n",
    "        x=before['x'], y=before['y'], z=before['z'],\n",
    "        legendgroup='paired',\n",
    "        name='Before Paired Radius: {0}'.format(r),\n",
    "        mode='markers',\n",
    "        marker=dict(\n",
    "            size=2,\n",
    "            line=dict(\n",
    "            color='rgb(0,255,0)',\n",
    "            width=0.5\n",
    "            ),\n",
    "        opacity=0.5\n",
    "        )\n",
    "    )\n",
    "\n",
    "    after_synapses = go.Scatter3d(\n",
    "        visible = False,\n",
    "        x=after['x'], y=after['y'], z=after['z'],\n",
    "        legendgroup='paired',\n",
    "        name='After Paired Radius: {0}'.format(r),\n",
    "        mode='markers',\n",
    "        marker=dict(\n",
    "            size=2,\n",
    "            line=dict(\n",
    "                color='rgb(255,0,0)',\n",
    "                width=.5\n",
    "            ),\n",
    "        opacity=0.5\n",
    "        )\n",
    "    )\n",
    "    \n",
    "    up_before_synapses = go.Scatter3d(\n",
    "        visible = False,      \n",
    "        x=up_before['x'], y=up_before['y'], z=up_before['z'],\n",
    "        legendgroup='unpaired',\n",
    "        name='Before Unpaired Radius: {0}'.format(r),\n",
    "        mode='markers',\n",
    "        marker=dict(\n",
    "            size=2,\n",
    "            line=dict(\n",
    "            color='rgb(0,0,255)',\n",
    "            width=0.5\n",
    "            ),\n",
    "        opacity=0.5\n",
    "        )\n",
    "    )\n",
    "\n",
    "    up_after_synapses = go.Scatter3d(\n",
    "        visible = False,\n",
    "        x=up_after['x'], y=up_after['y'], z=up_after['z'],\n",
    "        legendgroup='unpaired',\n",
    "        name='After Unpaired Radius: {0}'.format(r),\n",
    "        mode='markers',\n",
    "        marker=dict(\n",
    "            size=2,\n",
    "            line=dict(\n",
    "                color='rgb(128,128,128)',\n",
    "                width=.5\n",
    "            ),\n",
    "        opacity=0.5\n",
    "        )\n",
    "    )\n",
    "\n",
    "    data.extend([ before_synapses, after_synapses, up_before_synapses, up_after_synapses])\n",
    "\n",
    "for i in range(4):\n",
    "    data[i]['visible'] = True\n",
    "\n",
    "steps = []\n",
    "for i in range(len(data)//4):\n",
    "    step = dict(\n",
    "        method = 'restyle',\n",
    "        args = ['visible', [False] * len(data)],\n",
    "        label='Radius {0}'.format(syn_pair_radii[i])\n",
    "    )\n",
    "    x[i*4:i+3] = [False]*4\n",
    "    step['args'][1][i*4:i+4] = [True] * 4 # Toggle i'th trace to \"visible\"\n",
    "    steps.append(step)\n",
    "\n",
    "sliders = [dict(\n",
    "    active = 0,\n",
    "    currentvalue = {\"visible\": False},\n",
    "    pad = {\"t\": 50},\n",
    "    steps = steps\n",
    ")]\n",
    "\n",
    "layout = go.Layout(\n",
    "        height=800,\n",
    "        title='Paired and Unpaired Synapapses',\n",
    "        sliders=sliders\n",
    "    )\n",
    "\n",
    "fig = dict(data=data, layout=layout)\n",
    "py.offline.iplot(fig, filename='Sine Wave Slider')"
   ]
  },
  {
   "cell_type": "code",
   "execution_count": null,
   "metadata": {
    "scrolled": false
   },
   "outputs": [],
   "source": [
    "for r in  syn_pair_radii:\n",
    "    \n",
    "    before = paired_before[r]\n",
    "    after = paired_after[r]\n",
    "    up_before = unpaired_before[r]\n",
    "    up_after = unpaired_after[r]\n",
    "  \n",
    "    before_synapses = go.Scatter3d(\n",
    "        x=before['x'], y=before['y'], z=before['z'],\n",
    "        legendgroup='paired',\n",
    "        name='Before Paired',\n",
    "        mode='markers',\n",
    "        marker=dict(\n",
    "            size=2,\n",
    "            line=dict(\n",
    "            color='rgb(0,255,0)',\n",
    "            width=0.5\n",
    "            ),\n",
    "        opacity=0.5\n",
    "        )\n",
    "    )\n",
    "\n",
    "    after_synapses = go.Scatter3d(\n",
    "        x=after['x'], y=after['y'], z=after['z'],\n",
    "        legendgroup='paired',\n",
    "        name='After Paired',\n",
    "        mode='markers',\n",
    "        marker=dict(\n",
    "            size=2,\n",
    "            line=dict(\n",
    "                color='rgb(255,0,0)',\n",
    "                width=.5\n",
    "            ),\n",
    "        opacity=0.5\n",
    "        )\n",
    "    )\n",
    "    \n",
    "    up_before_synapses = go.Scatter3d(\n",
    "        x=up_before['x'], y=up_before['y'], z=up_before['z'],\n",
    "        legendgroup='unpaired',\n",
    "        name='Before Unpaired',\n",
    "        mode='markers',\n",
    "        marker=dict(\n",
    "            size=2,\n",
    "            line=dict(\n",
    "            color='rgb(0,0,255)',\n",
    "            width=0.5\n",
    "            ),\n",
    "        opacity=0.5\n",
    "        )\n",
    "    )\n",
    "\n",
    "    up_after_synapses = go.Scatter3d(\n",
    "        x=up_after['x'], y=up_after['y'], z=up_after['z'],\n",
    "        legendgroup='unpaired',\n",
    "        name='After Unpaired',\n",
    "        mode='markers',\n",
    "        marker=dict(\n",
    "            size=2,\n",
    "            line=dict(\n",
    "                color='rgb(128,128,128)',\n",
    "                width=.5\n",
    "            ),\n",
    "        opacity=0.5\n",
    "        )\n",
    "    )\n",
    "\n",
    "    data = [ before_synapses, after_synapses, up_before_synapses, up_after_synapses]\n",
    "\n",
    "    layout = go.Layout(\n",
    "        height=800,\n",
    "        title='Paired Synapapses at Radius {0}'.format(r),\n",
    "    )\n",
    "\n",
    "    fig = go.Figure(data=data, layout=layout)\n",
    "    py.offline.iplot(fig)"
   ]
  }
 ],
 "metadata": {
  "kernelspec": {
   "display_name": "Python 3",
   "language": "python",
   "name": "python3"
  },
  "language_info": {
   "codemirror_mode": {
    "name": "ipython",
    "version": 3
   },
   "file_extension": ".py",
   "mimetype": "text/x-python",
   "name": "python",
   "nbconvert_exporter": "python",
   "pygments_lexer": "ipython3",
   "version": "3.6.3"
  }
 },
 "nbformat": 4,
 "nbformat_minor": 2
}
