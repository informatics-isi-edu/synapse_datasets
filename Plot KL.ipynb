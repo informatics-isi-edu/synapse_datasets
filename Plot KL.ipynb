{
 "cells": [
  {
   "cell_type": "code",
   "execution_count": 6,
   "metadata": {},
   "outputs": [],
   "source": [
    "kldir = '/USC/Projects/Synapse/synapse-code/pointwise_kl'\n",
    "file = 'groundtruth-control_SynStd8179.csv'"
   ]
  },
  {
   "cell_type": "code",
   "execution_count": null,
   "metadata": {},
   "outputs": [],
   "source": [
    "with open csv as \n",
    "\n"
   ]
  },
  {
   "cell_type": "code",
   "execution_count": null,
   "metadata": {},
   "outputs": [],
   "source": [
    "# Plot a study\n",
    "\n",
    "import plotly as py\n",
    "import plotly.graph_objs as go\n",
    "\n",
    "py.offline.init_notebook_mode(connected=True)\n",
    "\n",
    "def plot_study(study):\n",
    "    '''\n",
    "    Create a 3D scatter plot of a study.\n",
    "    '''\n",
    "    synapse_kl = go.Scatter3d(\n",
    "        x=study['Before']['X'],\n",
    "        y=study['Before']['Y'],\n",
    "        z=study['Before']['Z'],\n",
    "        mode='markers',\n",
    "        marker=dict(\n",
    "            size=2,\n",
    "            line=dict(\n",
    "            color='rgb(0,255,0)',\n",
    "            width=0.5\n",
    "            ),\n",
    "        opacity=0.8\n",
    "        )\n",
    "    )\n",
    "\n",
    "    after_synapses = go.Scatter3d(\n",
    "        x=study['After']['X'],\n",
    "        y=study['After']['Y'],\n",
    "        z=study['After']['Z'],\n",
    "        mode='markers',\n",
    "        marker=dict(\n",
    "            size=2,\n",
    "            line=dict(\n",
    "                color='rgb(255,0,0)',\n",
    "                width=.5\n",
    "            ),\n",
    "        opacity=0.8\n",
    "        )\n",
    "    )\n",
    "\n",
    "    data = [before_synapses, after_synapses]\n",
    "\n",
    "    layout = go.Layout(\n",
    "        margin=dict(\n",
    "            l=0,\n",
    "            r=0,\n",
    "            b=0,\n",
    "            t=0\n",
    "        )\n",
    "    )\n",
    "\n",
    "    fig = go.Figure(data=data, layout=layout)\n",
    "    py.offline.iplot(fig)"
   ]
  }
 ],
 "metadata": {
  "kernelspec": {
   "display_name": "Python 3",
   "language": "python",
   "name": "python3"
  },
  "language_info": {
   "codemirror_mode": {
    "name": "ipython",
    "version": 3
   },
   "file_extension": ".py",
   "mimetype": "text/x-python",
   "name": "python",
   "nbconvert_exporter": "python",
   "pygments_lexer": "ipython3",
   "version": "3.6.3"
  }
 },
 "nbformat": 4,
 "nbformat_minor": 2
}
