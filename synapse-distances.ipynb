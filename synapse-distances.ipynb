{
 "cells": [
  {
   "cell_type": "markdown",
   "metadata": {},
   "source": [
    "# Plot paired and unpaired synapses"
   ]
  },
  {
   "cell_type": "markdown",
   "metadata": {},
   "source": [
    "This notebook assumes that all of the studies are orginized into a standard Python data structure. All of the plots are done using plot.ly, so you should look at the appropriate documentation for that if you want to change them.\n",
    "\n",
    "The variable `study_list` constains a list of studies, where each study is represented as a pyton dictionary. The keys in the dictionary currently include the study name, the subject id, the type of study (aversion, control), and if the fish learned or not. \n",
    "\n",
    "The python command `list(study_list[0])` will return a list of the current values that are available for a study.\n",
    "\n",
    "The study dictionary may also contain a set of calculated synapse pairings.  Each pair is represented as a python dictionary, whose key is the radius with which the pairing was determined, and whose value is a PANDA, with the synapse positions of the pair. Each PANDA has included in it a set of useful values from the study, including the study id, the type of study, the radius for the pair, etc.  Pairs are also transformed using the alignment points to put them into a common coordinate space.  The sets of pairs provided are:\n",
    "\n",
    "* PairedBefore\n",
    "* PairedAfter\n",
    "* UnpairedBefore\n",
    "* UnpairedAfter\n",
    "* AlignedPairedBefore\n",
    "* AlignedPairedAfter\n",
    "* AlignedUnpairedBefore\n",
    "* AlignedUnpairedAfter"
   ]
  },
  {
   "cell_type": "code",
   "execution_count": null,
   "metadata": {},
   "outputs": [],
   "source": [
    "%load_ext autoreload\n",
    "%autoreload 2"
   ]
  },
  {
   "cell_type": "code",
   "execution_count": null,
   "metadata": {},
   "outputs": [],
   "source": [
    "# Load up all of the libraries we need\n",
    "\n",
    "import synapse_plot_utils as sp\n",
    "import synapse_utils\n",
    "import synapse_plot_config as plot_config\n",
    "from synapse_plot_config import plot_synapses, trace_color, position_layout, step_buttons, studytypes\n",
    "from scipy.spatial import ConvexHull, KDTree\n",
    "\n",
    "import pandas as pd\n",
    "import numpy as np\n",
    "import xarray as xr\n",
    "import plotly as py\n",
    "import plotly.graph_objs as go\n",
    "import matplotlib\n",
    "import csv\n",
    "import hdbscan\n",
    "\n",
    "from matplotlib import cm\n",
    "\n",
    "import colorlover as cl\n",
    "\n",
    "# configure plot.ly to run in a notebook.\n",
    "py.offline.init_notebook_mode(connected=True)"
   ]
  },
  {
   "cell_type": "markdown",
   "metadata": {},
   "source": [
    "# Load Data"
   ]
  },
  {
   "cell_type": "code",
   "execution_count": null,
   "metadata": {},
   "outputs": [],
   "source": [
    "# Points unswapped\n",
    "fileid = '10H2@2PW-ZBJY-6HT4'\n",
    "fileid = '1124'\n",
    "studyid, studyset = synapse_utils.fetch_studies(fileid)\n",
    "studylist_unswapped = studyset['Studies']\n",
    "\n",
    "# Points swap\n",
    "fileid = '112A'\n",
    "studyid, studyset = synapse_utils.fetch_studies(fileid)\n",
    "# Local copy\n",
    "#studyset = synapse_utils.restore_studies('study-10DJ.pkl')\n",
    "\n",
    "\n",
    "studylist = studyset['Studies']\n",
    "study_types = studytypes(studylist)"
   ]
  },
  {
   "cell_type": "markdown",
   "metadata": {},
   "source": [
    "Calculate the distance between synapses."
   ]
  },
  {
   "cell_type": "code",
   "execution_count": null,
   "metadata": {},
   "outputs": [],
   "source": [
    "rmax = max(studylist[0]['PairedAfter'])\n",
    "paired_distance  = { k : {'Before':[], 'After':[]} for k in study_types}\n",
    "unpaired_distance = { k : {'Before':[], 'After':[]} for k in study_types}\n",
    "\n",
    "# Get all of the synapses in before and after...\n",
    "for i in studylist:\n",
    "    for tp in ['Before', 'After']:\n",
    "        paired = i['Unpaired' + tp][rmax]['Data'][['x','y','z']]\n",
    "        unpaired = i['Paired' + tp][rmax]['Data'][['x','y','z']]\n",
    "        before_distance = []\n",
    "        # Create KD tree for all before points....\n",
    "        kdtree = KDTree(paired.append(unpaired))\n",
    "        # Now calculate distance from paired to nearest neigbor\n",
    "        for idx,pt in paired.iterrows():\n",
    "            dist, index = kdtree.query(pt,2)\n",
    "            # Don't include distance to yourself.\n",
    "            paired_distance[i['Type']][tp].append(dist[1])\n",
    "            \n",
    "        # Now calculate the distance from the unpaired to the neareast neighbor\n",
    "        for idx,pt in unpaired.iterrows():\n",
    "            dist, index = kdtree.query(pt,2)\n",
    "            # Don't include distance to yourself.\n",
    "            unpaired_distance[i['Type']][tp].append(dist[1])"
   ]
  },
  {
   "cell_type": "markdown",
   "metadata": {},
   "source": [
    "<H1> Compute some basic Statistics"
   ]
  },
  {
   "cell_type": "code",
   "execution_count": null,
   "metadata": {},
   "outputs": [],
   "source": [
    "s = pd.Series(unpaired_distance['learner']['Before']).describe()\n",
    "s"
   ]
  },
  {
   "cell_type": "code",
   "execution_count": null,
   "metadata": {
    "scrolled": false
   },
   "outputs": [],
   "source": [
    "# Set what radius/studies you want to have....\n",
    "\n",
    "cols = ['Synapse Type','Study Type', 'Timepoint',  \"Count\", 'Mean', 'SD',]\n",
    "c1, c2, c3, c4, c5, c6 = [],[],[],[],[],[]\n",
    "\n",
    "syn_pair_radii = list(studylist[0]['UnpairedBefore'])\n",
    "\n",
    "for t in study_types:\n",
    "    for i in ['Before', 'After']:\n",
    "        s = pd.Series(unpaired_distance[t][i]).describe()\n",
    "        c1.append('unpaired')\n",
    "        c2.append(t)\n",
    "        c3.append(i)\n",
    "        c4.append(s['count'])\n",
    "        c5.append(s['mean'])\n",
    "        c6.append(s['std'])\n",
    "        \n",
    "        s = pd.Series(paired_distance[t][i]).describe()\n",
    "        c1.append('paired')\n",
    "        c2.append(t)\n",
    "        c3.append(i)\n",
    "        c4.append(s['count'])\n",
    "        c5.append(s['mean'])\n",
    "        c6.append(s['std'])\n",
    " \n",
    "trace = go.Table(\n",
    "    header=dict(values=cols,\n",
    "                fill = dict(color='#C2D4FF'),\n",
    "                align = ['left'] * 5),\n",
    "    cells=dict(values=[c1, c2, c3, c4, c5, c6],\n",
    "               fill = dict(color='#F5F8FF'),\n",
    "               align = ['left'] * 5))\n",
    "\n",
    "data = [trace] \n",
    "py.offline.iplot(data, filename = 'statistics_table')"
   ]
  },
  {
   "cell_type": "code",
   "execution_count": null,
   "metadata": {
    "scrolled": false
   },
   "outputs": [],
   "source": [
    "#data_paired  = { k : [] for k in study_types}\n",
    "#data_unpaired  = { k : [] for k in study_types}\n",
    "\n",
    "max_distance = 0\n",
    "for tp in ['Before', 'After']:\n",
    "    for i in study_types:\n",
    "        max_distance = max(max_distance, max(paired_distance[i][tp]))\n",
    "        max_distance = max(max_distance, max(unpaired_distance[i][tp]))\n",
    "print(\"Maximum distance is: \", max_distance)\n",
    "\n",
    "xrange = [0, 10]\n",
    "histnorm = 'probability density'\n",
    "\n",
    "data_paired, data_unpaired = [],[]\n",
    "for tp in ['Before', 'After']:\n",
    "    data_paired, data_unpaired = [], []\n",
    "    for i in study_types:\n",
    "        data_paired.append(go.Histogram(\n",
    "            histnorm=histnorm,\n",
    "            opacity=.6,\n",
    "            x=paired_distance[i][tp], \n",
    "            name='{}'.format(i)))\n",
    "        data_unpaired.append(go.Histogram(\n",
    "            histnorm=histnorm,\n",
    "            opacity=.6,\n",
    "            x=unpaired_distance[i][tp], \n",
    "            name='{}'.format(i)))  \n",
    "    hist_layout = go.Layout(\n",
    "    title='Synapse Distance Histogram Paired {}'.format(tp),\n",
    "        xaxis=dict( title='Distance'.format(tp), range=xrange), \n",
    "        yaxis=dict(title='Count', range=[0,1]),\n",
    "        barmode='group',bargap=0.2, bargroupgap=0.1\n",
    "    )\n",
    "    hist_fig = go.Figure(data=data_paired, layout=hist_layout)\n",
    "    py.offline.iplot(hist_fig, filename='pair-distance')\n",
    "    \n",
    "    hist_layout = go.Layout(\n",
    "    title='Synapse Distance Histogram Unpaired {}'.format(tp),\n",
    "        xaxis=dict( title='Distance'.format(tp), range=xrange), \n",
    "        yaxis=dict(title='Count', range=[0,1]),\n",
    "        barmode='group',bargap=0.2, bargroupgap=0.1\n",
    "    )\n",
    "    hist_fig = go.Figure(data=data_unpaired, layout=hist_layout)\n",
    "    py.offline.iplot(hist_fig, filename='unpair-distance')"
   ]
  }
 ],
 "metadata": {
  "kernelspec": {
   "display_name": "Python 3",
   "language": "python",
   "name": "python3"
  },
  "language_info": {
   "codemirror_mode": {
    "name": "ipython",
    "version": 3
   },
   "file_extension": ".py",
   "mimetype": "text/x-python",
   "name": "python",
   "nbconvert_exporter": "python",
   "pygments_lexer": "ipython3",
   "version": "3.6.5"
  }
 },
 "nbformat": 4,
 "nbformat_minor": 2
}
