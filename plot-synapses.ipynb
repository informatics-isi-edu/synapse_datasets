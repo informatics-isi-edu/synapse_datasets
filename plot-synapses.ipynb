{
 "cells": [
  {
   "cell_type": "markdown",
   "metadata": {},
   "source": [
    "# Plot paired and unpaired synapses"
   ]
  },
  {
   "cell_type": "markdown",
   "metadata": {},
   "source": [
    "This notebook assumes that all of the studies are orginized into a standard Python data structure. All of the plots are done using plot.ly, so you should look at the appropriate documentation for that if you want to change them.\n",
    "\n",
    "The variable `study_list` constains a list of studies, where each study is represented as a pyton dictionary. The keys in the dictionary currently include the study name, the subject id, the type of study (aversion, control), and if the fish learned or not. \n",
    "\n",
    "The python command `list(study_list[0])` will return a list of the current values that are available for a study.\n",
    "\n",
    "The study dictionary may also contain a set of calculated synapse pairings.  Each pair is represented as a python dictionary, whose key is the radius with which the pairing was determined, and whose value is a PANDA, with the synapse positions of the pair. Each PANDA has included in it a set of useful values from the study, including the study id, the type of study, the radius for the pair, etc.  Pairs are also transformed using the alignment points to put them into a common coordinate space.  The sets of pairs provided are:\n",
    "\n",
    "* PairedBefore\n",
    "* PairedAfter\n",
    "* UnpairedBefore\n",
    "* UnpairedAfter\n",
    "* AlignedPairedBefore\n",
    "* AlignedPairedAfter\n",
    "* AlignedUnpairedBefore\n",
    "* AlignedUnpairedAfter"
   ]
  },
  {
   "cell_type": "code",
   "execution_count": null,
   "metadata": {},
   "outputs": [],
   "source": [
    "%load_ext autoreload\n",
    "%autoreload 2"
   ]
  },
  {
   "cell_type": "code",
   "execution_count": null,
   "metadata": {},
   "outputs": [],
   "source": [
    "# Load up all of the libraries we need\n",
    "\n",
    "import synapse_plot_utils as sp\n",
    "import synapse_plot_config as plot_config\n",
    "from synapse_plot_config import plot_synapses, trace_color, position_layout, step_buttons\n",
    "\n",
    "import pandas as pd\n",
    "import numpy as np\n",
    "import plotly as py\n",
    "import plotly.graph_objs as go\n",
    "\n",
    "# configure plot.ly to run in a notebook.\n",
    "py.offline.init_notebook_mode(connected=True)"
   ]
  },
  {
   "cell_type": "markdown",
   "metadata": {},
   "source": [
    "<H2> Useful Global Variables"
   ]
  },
  {
   "cell_type": "code",
   "execution_count": null,
   "metadata": {},
   "outputs": [],
   "source": [
    "study_list = ['SynStd6025','SynStd8013','SynStd8071','SynStd6791','SynStd7951','SynStd7949','SynStd6493','SynStd7943',\n",
    "          'SynStd6479','SynStd6481','SynStd6485','SynStd6483', 'SynStd6477', 'SynStdR5Y',\n",
    "          'SynStdJK6','SynStdJKP','SynStdJKE','SynStdJJY','SynStdJJP','SynStdJJE','SynStdJJ6',\n",
    "          'SynStdRVA','SynStdRVE','SynStdRVJ','SynStdRVP','SynStdRVT']\n",
    "\n",
    "syn_pair_radii = (4, 300.0,) # maximum search radii\n",
    "syn_dx_core_ratio = None  # turn off 4D nearest-neighbor\n",
    "syn_core_max_ratio = None # turn off intensity ratio threshold\n"
   ]
  },
  {
   "cell_type": "markdown",
   "metadata": {},
   "source": [
    "# Load Data"
   ]
  },
  {
   "cell_type": "markdown",
   "metadata": {},
   "source": [
    "You have two choices, you can reload data from a previous notebook run, or regenerate all of the pairs with data from the catalog. If there have been new studies added, or any data has changed, you must regenerate all the pairs. In general, you should probably only use the save and "
   ]
  },
  {
   "cell_type": "markdown",
   "metadata": {},
   "source": [
    "<h3> Restore data from previous run"
   ]
  },
  {
   "cell_type": "code",
   "execution_count": null,
   "metadata": {},
   "outputs": [],
   "source": [
    "dumpfile = 'pairs-dump.pkl'\n",
    "paired_studies = sp.restore_studies(dumpfile)"
   ]
  },
  {
   "cell_type": "markdown",
   "metadata": {},
   "source": [
    "<H3> Get Study Pairs from Catalog"
   ]
  },
  {
   "cell_type": "markdown",
   "metadata": {},
   "source": [
    "We are going to pull the synapse data down directly from the syapse server.  In order to do this we have to make a connection to the server at synapse.isrd.isi.edu You need to make sure you have logged in using the DERIVA login agent first"
   ]
  },
  {
   "cell_type": "code",
   "execution_count": null,
   "metadata": {},
   "outputs": [],
   "source": [
    "dumpfile = 'pairs-dump.pkl'\n",
    "\n",
    "all_studies = sp.get_studies()\n",
    "\n",
    "learners = sp.group_studies(all_studies, group='Type')['learner']\n",
    "nonlearners = sp.group_studies(all_studies, group='Type')['nonlearner']\n",
    "aligned = sp.group_studies(all_studies, group='Aligned')[True]\n",
    "\n",
    "print('{0} learners'.format(len(learners)))\n",
    "print('{0} nonlearners'.format(len(nonlearners)))\n",
    "print('{0} aligned'.format(len(aligned)))\n",
    "\n",
    "# Lets just get the learners and nonlearners for now.\n",
    "paired_studies = [  s for s in all_studies if s['Study'] in study_list]\n",
    "\n",
    "sp.compute_pairs(paired_studies, syn_pair_radii)\n",
    "\n",
    "dumpfile = 'pairs-dump.pkl'\n",
    "\n",
    "sp.dump_studies(paired_studies, dumpfile)\n"
   ]
  },
  {
   "cell_type": "markdown",
   "metadata": {},
   "source": [
    "<H1> Compute some basic Statistics"
   ]
  },
  {
   "cell_type": "code",
   "execution_count": null,
   "metadata": {
    "scrolled": false
   },
   "outputs": [],
   "source": [
    "# Set what radius/studies you want to have....\n",
    "\n",
    "cols = ['ID', 'Type', 'Radius', 'Unpaired Before', 'Unpaired After','Paired Before','Paired After']\n",
    "c1, c2, c3, c4, c5, c6, c7 = [],[],[],[],[],[],[]\n",
    "\n",
    "syn_pair_radii = list(paired_studies[0]['UnpairedBefore'])\n",
    "\n",
    "for s in paired_studies:\n",
    "    for r in syn_pair_radii:\n",
    "        c1.append(s['Study'])\n",
    "        c2.append(s['Type'])\n",
    "        c3.append(r)\n",
    "        c4.append(len(s['UnpairedBefore'][r]['Data'].index))\n",
    "        c5.append(len(s['UnpairedAfter'][r]['Data'].index))\n",
    "        c6.append(len(s['PairedBefore'][r]['Data'].index))\n",
    "        c7.append(len(s['PairedAfter'][r]['Data'].index))\n",
    "    \n",
    "trace = go.Table(\n",
    "    header=dict(values=cols,\n",
    "                fill = dict(color='#C2D4FF'),\n",
    "                align = ['left'] * 5),\n",
    "    cells=dict(values=[c1, c2, c3, c4, c5, c6, c7],\n",
    "               fill = dict(color='#F5F8FF'),\n",
    "               align = ['left'] * 5))\n",
    "\n",
    "data = [trace] \n",
    "py.offline.iplot(data, filename = 'statistics_table')"
   ]
  },
  {
   "cell_type": "markdown",
   "metadata": {},
   "source": [
    "<H1> Plot histograms of pair distance for all of the studies"
   ]
  },
  {
   "cell_type": "code",
   "execution_count": null,
   "metadata": {},
   "outputs": [],
   "source": [
    "pair_distance = { 'learner': pd.Series(), 'nonlearner' : pd.Series(), 'control' : pd.Series()}\n",
    "\n",
    "rmax = max(s['PairedAfter'])\n",
    "\n",
    "for s in paired_studies:\n",
    "    # Get the pairing for the maximum radius...\n",
    "    before = s['PairedBefore'][rmax]['Data']\n",
    "    after = s['PairedAfter'][rmax]['Data']\n",
    "    t = s['Type']\n",
    "    pair_distance[t] = pair_distance[t].append(pd.Series(np.sqrt((before['x'] - after['x'])**2 +\n",
    "                        (before['y'] - after['y'])**2 +\n",
    "                        (before['z'] - after['z'])**2)))\n",
    "\n",
    "data=  [ \n",
    "    go.Histogram(x=pair_distance['learner'], name='Learners Radias {0}'.format(rmax)), \n",
    "    go.Histogram(x=pair_distance['nonlearner'], name='Nonlearners Radias {0}'.format(rmax)),\n",
    "    go.Histogram(x=pair_distance['control'], name='Control Radias {0}'.format(rmax))\n",
    "]\n",
    "\n",
    "hist_layout = go.Layout(\n",
    "    title='Pair Distance Histogram Radius {0}'.format(r),\n",
    "    barmode='stack',\n",
    "    xaxis=dict(\n",
    "         title='Distance'\n",
    "    ),\n",
    "    yaxis=dict(\n",
    "         title='Count'\n",
    "        ),\n",
    "    bargap=0.2,\n",
    "     bargroupgap=0.1\n",
    "    )\n",
    "\n",
    "hist_fig = go.Figure(data=data, layout=hist_layout)\n",
    "\n",
    "py.offline.iplot(hist_fig, filename='pair-distance')"
   ]
  },
  {
   "cell_type": "markdown",
   "metadata": {},
   "source": [
    "<h1> Histogram of pair distances - past a certain pairing threshold "
   ]
  },
  {
   "cell_type": "code",
   "execution_count": null,
   "metadata": {},
   "outputs": [],
   "source": [
    "thres_pair=20.0 # Threshold for the minimum value to display on the histogram\n",
    "\n",
    "hist_data_l_thres = go.Histogram(x=pair_distance['learner'], name='Learners Radius {0}'.format(r),\n",
    "                          opacity=0.75,xbins=dict(start=thres_pair,end=90.0,size=1))\n",
    "hist_data_nl_thres = go.Histogram(x=pair_distance['nonlearner'], name='Nonlearners Radius {0}'.format(r),\n",
    "                           opacity=0.75,xbins=dict(start=thres_pair,end=90.0,size=1))\n",
    "\n",
    "# Normalized\n",
    "hist_data_l_N_thres = go.Histogram(x=pair_distance['learner'], name='Learners Radius {0}'.format(r),\n",
    "                          opacity=0.75,xbins=dict(start=thres_pair,end=90.0,size=1),histnorm=\"probability\")\n",
    "hist_data_nl_N_thres = go.Histogram(x=pair_distance['nonlearner'], name='Nonlearners Radius {0}'.format(r),\n",
    "                           opacity=0.75,xbins=dict(start=thres_pair,end=90.0,size=1),histnorm=\"probability\")\n",
    "\n",
    "hist_layout_Norm = go.Layout(\n",
    "    title='Pair Distance Histogram Radius Normalized {0}'.format(r),\n",
    "    barmode='stack',\n",
    "    xaxis=dict(\n",
    "         title='Distance'\n",
    "    ),\n",
    "    yaxis=dict(\n",
    "         title='Count'\n",
    "        ),\n",
    "    bargap=0.2,\n",
    "     bargroupgap=0.1\n",
    "    )\n",
    "\n",
    "hist_fig_thres = go.Figure(data=[hist_data_l_thres, hist_data_nl_thres], layout=hist_layout)\n",
    "hist_fig_Norm_thres = go.Figure(data=[hist_data_l_N_thres, hist_data_nl_N_thres], layout=hist_layout_Norm)\n",
    "\n",
    "py.offline.iplot(hist_fig_thres, filename='pair-distance_thresholded')\n",
    "py.offline.iplot(hist_fig_Norm_thres, filename='pair-distance_Norm_thresholded')"
   ]
  },
  {
   "cell_type": "markdown",
   "metadata": {},
   "source": [
    "<h1> Histogram of intensity ratios"
   ]
  },
  {
   "cell_type": "code",
   "execution_count": null,
   "metadata": {},
   "outputs": [],
   "source": [
    "r  = min(paired_studies[0]['UnpairedBefore'])\n",
    "\n",
    "core_ratio = { 'learner': pd.Series(), 'nonlearner' : pd.Series(), 'control': pd.Series()}\n",
    "core = { 'learner': pd.Series(), 'nonlearner' : pd.Series(), 'control': pd.Series()}\n",
    "\n",
    "for s in paired_studies:\n",
    "    before = s['PairedBefore'][r]['Data']\n",
    "    after = s['PairedAfter'][r]['Data']\n",
    "    t = s['Type']\n",
    "    core_ratio[t] = core_ratio[t].append(pd.Series(before['core'] / after['core']))\n",
    "    core[t] = core_ratio[t].append(pd.Series(before['core']))\n",
    "    core[t] = core_ratio[t].append(pd.Series(after['core']))\n",
    "\n",
    "data = [\n",
    "    go.Histogram(x=core_ratio['learner'], name='Learners Radias {0}'.format(r)),\n",
    "    go.Histogram(x=core_ratio['nonlearner'], name='Nonlearners Radias {0}'.format(r)),\n",
    "    go.Histogram(x=core_ratio['control'], name='Control Radias {0}'.format(r))\n",
    "]\n",
    "    \n",
    "hist_layout = go.Layout(\n",
    "    title='Pair Ratio Histogram Radius {0}'.format(r),\n",
    "    barmode='stack',\n",
    "    xaxis=dict(\n",
    "         title='Distance'\n",
    "    ),\n",
    "    yaxis=dict(\n",
    "         title='Count'\n",
    "        ),\n",
    "    bargap=0.2,\n",
    "     bargroupgap=0.1\n",
    "    )\n",
    "\n",
    "hist_fig = go.Figure(data=data, layout=hist_layout)\n",
    "\n",
    "py.offline.iplot(hist_fig, filename='core-intensity')"
   ]
  },
  {
   "cell_type": "markdown",
   "metadata": {},
   "source": [
    "<H1> Plot sets of synapses..."
   ]
  },
  {
   "cell_type": "code",
   "execution_count": null,
   "metadata": {
    "scrolled": false
   },
   "outputs": [],
   "source": [
    "# Get all radii for a specific study\n",
    "\n",
    "\n",
    "s_names = ['SynStd6025','SynStd8013','SynStd8071','SynStd6791','SynStd7951','SynStd7949','SynStd6493','SynStd7943',\n",
    "          'SynStd6479','SynStd6481','SynStd6485','SynStd6483', 'SynStd6477', 'SynStdR5Y',\n",
    "          'SynStdJK6','SynStdJKP','SynStdJKE','SynStdJJY','SynStdJJP','SynStdJJE','SynStdJJ6',\n",
    "          'SynStdRVA','SynStdRVE','SynStdRVJ','SynStdRVP','SynStdRVT']\n",
    "# Removed SynStd6475 because the registration of the original image seems incorrect - somehow shifted??\n",
    "# SynStdJK6 was bounced back on 1/18/18 so take it with a grain of salt for now\n",
    "\n",
    "s_list = [s for s in paired_studies if s['Study'] in s_names]\n",
    "# Pick which traces you would like displayed\n",
    "\n",
    "\n",
    "tracelist =['AlignedUnpairedBefore','AlignedUnpairedAfter','AlignmentPts']\n",
    "#tracelist = ['PairedBefore','PairedAfter','UnpairedBefore','UnpairedAfter']\n",
    "#tracelist = ['UnpairedBefore','UnpairedAfter']\n",
    "print('Plotting {0} studies'.format(len(s_list)))\n",
    "study_types = sp.group_studies(s_list, group='Type')\n",
    "\n",
    "print('{0} Learners'.format(len(study_types['learner'])))\n",
    "print('{0} NonLearners'.format(len(study_types['nonlearner'])))\n",
    "print('{0} Controls'.format(len(study_types['control'])))\n",
    "\n",
    "\n",
    "#Pick the slider mode...\n",
    "plotmode = 'Study'\n",
    "plotmode = 'Trace'\n",
    "#plotmode = 'Studyset'\n",
    "\n",
    "\n",
    "fig = plot_synapses(s_list, tracelist, plotmode, centroid=False) \n",
    "\n",
    "plot_file_name = 'synapse-plot'\n",
    "py.offline.iplot(fig, filename=plot_file_name)\n",
    "    \n",
    "#py.offline.plot(fig,  filename =plot_file_name, output_type='file')\n",
    "    "
   ]
  },
  {
   "cell_type": "markdown",
   "metadata": {},
   "source": [
    "<h2> Plot summary of centroids"
   ]
  },
  {
   "cell_type": "code",
   "execution_count": null,
   "metadata": {},
   "outputs": [],
   "source": [
    "centroidlist = []\n",
    "studylist = s_list\n",
    "tracelist =['AlignedUnpairedBefore','AlignedUnpairedAfter','AlignmentPts']\n",
    "\n",
    "# Use the smallest available radius as the default if one is not provided.\n",
    "radius =  min(studylist[0][tracelist[0]])\n",
    "\n",
    "for t in tracelist: \n",
    "    if t != 'AlignmentPts':\n",
    "        centroidlist.append(t + 'Centroid')\n",
    "before_traces, after_traces = [], []\n",
    "\n",
    "cnt_before = cnt_after = 0\n",
    "before_x = before_y = before_z = 0\n",
    "after_x = after_y = after_z = 0\n",
    "maxx,maxy,maxz,minx,miny,minz = -float('inf'),-float('inf'),-float('inf'),float('inf'),float('inf'),float('inf')\n",
    "    \n",
    "for t in centroidlist:\n",
    "    x,y,z, text = [],[],[],[]\n",
    "    for s in studylist:\n",
    "        x.append(s[t][radius]['Data']['x'][0])\n",
    "        y.append(s[t][radius]['Data']['y'][0])\n",
    "        z.append(s[t][radius]['Data']['z'][0])\n",
    "        text.append(s['Study'])\n",
    "        \n",
    "    maxx = max(x + [maxx])\n",
    "    maxy = max(y + [maxy])\n",
    "    maxz = max(z + [maxz])\n",
    "    minx = min(x + [minx])\n",
    "    miny = min(y + [miny])\n",
    "    minz = min(z + [minz])\n",
    "    \n",
    "    centroid_trace = go.Scatter3d(\n",
    "        x = x, y = y, z = z,\n",
    "        mode='markers',\n",
    "        name = '{0}'.format(t),\n",
    "        text = text,\n",
    "        marker=dict(\n",
    "            size = 6, color = trace_color(t),\n",
    "            line=dict(color='black', width=0.8))\n",
    "        )\n",
    "\n",
    "    if 'Before' in t:\n",
    "        before_x = sum(x) + before_x\n",
    "        before_y = sum(y) + before_y\n",
    "        before_z = sum(z) + before_z\n",
    "        cnt_before = cnt_before + len(x)\n",
    "        before_traces.append(centroid_trace)\n",
    "    else:\n",
    "        after_x = sum(x) + after_x\n",
    "        after_y = sum(y) + after_y\n",
    "        after_z = sum(z) + after_z\n",
    "        cnt_after = cnt_after + len(x)\n",
    "        after_traces.append(centroid_trace)\n",
    "        \n",
    "summary_trace = go.Scatter3d(\n",
    "    x = [ before_x / cnt_before ], y = [ before_y / cnt_before ], z = [ before_z / cnt_before ],\n",
    "    mode = 'markers',\n",
    "    name = 'Centroids Before',\n",
    "    marker = dict(\n",
    "        size = 8,\n",
    "        symbol = 'square',\n",
    "        color = ['orange']\n",
    "     )\n",
    ")\n",
    "before_traces.append(summary_trace)\n",
    "\n",
    "summary_trace = go.Scatter3d(\n",
    "    x = [ after_x / cnt_after ],  y = [ after_y / cnt_after ], z = [ after_z / cnt_after ],\n",
    "    mode = 'markers',\n",
    "    name = 'Centroids After',\n",
    "    marker = dict(\n",
    "        size = 8,\n",
    "        symbol = 'square',\n",
    "        color = ['blue']\n",
    "     )\n",
    ")\n",
    "after_traces.append(summary_trace)\n",
    "\n",
    "masks = {'study' : \n",
    "         { 'centroid' : \n",
    "          {\n",
    "    'all' : { 'study' : [True] * (len(before_traces) + len(after_traces)) },\n",
    "    'before' : { 'study' : [True] * len(before_traces) + [False] * len(after_traces)},\n",
    "    'after' : { 'study' : [False] * len(before_traces) + [True] * len(after_traces)}\n",
    "          }\n",
    "         }\n",
    "    }\n",
    "\n",
    "layout = position_layout(minx, miny, minz, maxx, maxy, maxz)\n",
    "layout['title'] = 'Centroids'\n",
    "layout['updatemenus'] = step_buttons('study', masks, 'centroid')\n",
    "\n",
    "fig = dict(data=before_traces + after_traces, layout=layout)\n",
    "\n",
    "plot_file_name = 'centroid-plot'\n",
    "\n",
    "py.offline.iplot(fig, filename=plot_file_name)\n",
    "    \n",
    "#py.offline.plot(fig,  filename =plot_file_name, output_type='file')"
   ]
  }
 ],
 "metadata": {
  "kernelspec": {
   "display_name": "Python 3",
   "language": "python",
   "name": "python3"
  },
  "language_info": {
   "codemirror_mode": {
    "name": "ipython",
    "version": 3
   },
   "file_extension": ".py",
   "mimetype": "text/x-python",
   "name": "python",
   "nbconvert_exporter": "python",
   "pygments_lexer": "ipython3",
   "version": "3.6.4"
  }
 },
 "nbformat": 4,
 "nbformat_minor": 2
}
